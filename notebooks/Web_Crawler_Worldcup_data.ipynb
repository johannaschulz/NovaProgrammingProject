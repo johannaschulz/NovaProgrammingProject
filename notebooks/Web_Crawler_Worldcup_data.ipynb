{
 "cells": [
  {
   "cell_type": "code",
   "execution_count": 10,
   "id": "77da5705",
   "metadata": {},
   "outputs": [],
   "source": [
    "#Import different libraries we need to scrap the data for the world cup"
   ]
  },
  {
   "cell_type": "code",
   "execution_count": 11,
   "id": "4ed7dca7",
   "metadata": {},
   "outputs": [],
   "source": [
    "from bs4 import BeautifulSoup"
   ]
  },
  {
   "cell_type": "code",
   "execution_count": 12,
   "id": "223b1a50",
   "metadata": {},
   "outputs": [],
   "source": [
    "import requests"
   ]
  },
  {
   "cell_type": "code",
   "execution_count": 13,
   "id": "ef1249f7",
   "metadata": {},
   "outputs": [],
   "source": [
    "import pandas as pd"
   ]
  },
  {
   "cell_type": "code",
   "execution_count": 14,
   "id": "c1d1bef8",
   "metadata": {},
   "outputs": [],
   "source": [
    "#All the years of the FIFA World Cup so far"
   ]
  },
  {
   "cell_type": "code",
   "execution_count": 15,
   "id": "85359dcc",
   "metadata": {},
   "outputs": [],
   "source": [
    "wc_years = [1930, 1934, 1938, 1950, 1954, 1958, 1962, 1966, 1970, 1974,\n",
    "            1978, 1982, 1986, 1990, 1994, 2002, 2006, 2010, 2014, 2018]"
   ]
  },
  {
   "cell_type": "code",
   "execution_count": 16,
   "id": "2233ca89",
   "metadata": {},
   "outputs": [],
   "source": [
    "def get_all_matches(year):\n",
    "    \n",
    "    \n",
    "    # From this website, we will import the data. Depending on the year that will be inputed in the function,\n",
    "    # the link will change and different data will be extracted. We use an f-string to do so.\n",
    "    website = f'https://en.wikipedia.org/wiki/{year}_FIFA_World_Cup'\n",
    "    \n",
    "    # This saves all the html code from the website to the response variable. \n",
    "    # In the html code, the information will be included we are looking for\n",
    "    response_website = requests.get(website)\n",
    "    content_website = response_website.text\n",
    "    \n",
    "    # WIll help to extract the data from the Wikipedia Website\n",
    "    # If you do not have the lxml parser installed you should do so by typing \"pip install lxml\"\n",
    "    soup = BeautifulSoup(content_website, 'lxml')\n",
    "    \n",
    "    # Here, we want to specify our extraction by only extracting the matches played.\n",
    "    # In order to do so, we need to try to find a pattern in the source code by which \n",
    "    # we can target the information fo the matches directly.\n",
    "    # The Google developer tool in chrome helps us to do so.\n",
    "    all_matches = soup.find_all('div', class_= 'footballbox')\n",
    "    \n",
    "    # Now, we loop over all the matches and find the home team, the away team and the score.\n",
    "    # We can identify them by the tag 'th' and the classes fhome, faway, and fscore.\n",
    "    \n",
    "    home = []\n",
    "    score = []\n",
    "    away = []\n",
    "    \n",
    "    for match in all_matches:\n",
    "        home.append(match.find('th', class_='fhome').get_text())\n",
    "        score.append(match.find('th', class_='fscore').get_text())\n",
    "        away.append(match.find('th', class_='faway').get_text())\n",
    "    \n",
    "    # We will crate a dictionary to merge our lists in one place\n",
    "    dict_matches = {'home': home, 'score': score, 'away':away, 'year': year}\n",
    "    df_matches = pd.DataFrame(dict_matches)\n",
    "    return df_matches"
   ]
  },
  {
   "cell_type": "code",
   "execution_count": 8,
   "id": "92d540c6",
   "metadata": {},
   "outputs": [],
   "source": [
    "# Here, we are running our defined function for all years and save the results to a variable called\n",
    "# all years matches. Then we concatenate al the results in a accumulated variable\n",
    "\n",
    "all_years_matches = [get_all_matches(year) for year in wc_years]\n",
    "fifa_worldcup_results = pd.concat(all_years_matches, ignore_index=True)"
   ]
  },
  {
   "cell_type": "code",
   "execution_count": 9,
   "id": "425a13c2",
   "metadata": {},
   "outputs": [
    {
     "data": {
      "text/html": [
       "<div>\n",
       "<style scoped>\n",
       "    .dataframe tbody tr th:only-of-type {\n",
       "        vertical-align: middle;\n",
       "    }\n",
       "\n",
       "    .dataframe tbody tr th {\n",
       "        vertical-align: top;\n",
       "    }\n",
       "\n",
       "    .dataframe thead th {\n",
       "        text-align: right;\n",
       "    }\n",
       "</style>\n",
       "<table border=\"1\" class=\"dataframe\">\n",
       "  <thead>\n",
       "    <tr style=\"text-align: right;\">\n",
       "      <th></th>\n",
       "      <th>home</th>\n",
       "      <th>score</th>\n",
       "      <th>away</th>\n",
       "      <th>year</th>\n",
       "    </tr>\n",
       "  </thead>\n",
       "  <tbody>\n",
       "    <tr>\n",
       "      <th>0</th>\n",
       "      <td>France</td>\n",
       "      <td>4–1</td>\n",
       "      <td>Mexico</td>\n",
       "      <td>1930</td>\n",
       "    </tr>\n",
       "    <tr>\n",
       "      <th>1</th>\n",
       "      <td>Argentina</td>\n",
       "      <td>1–0</td>\n",
       "      <td>France</td>\n",
       "      <td>1930</td>\n",
       "    </tr>\n",
       "    <tr>\n",
       "      <th>2</th>\n",
       "      <td>Chile</td>\n",
       "      <td>3–0</td>\n",
       "      <td>Mexico</td>\n",
       "      <td>1930</td>\n",
       "    </tr>\n",
       "    <tr>\n",
       "      <th>3</th>\n",
       "      <td>Chile</td>\n",
       "      <td>1–0</td>\n",
       "      <td>France</td>\n",
       "      <td>1930</td>\n",
       "    </tr>\n",
       "    <tr>\n",
       "      <th>4</th>\n",
       "      <td>Argentina</td>\n",
       "      <td>6–3</td>\n",
       "      <td>Mexico</td>\n",
       "      <td>1930</td>\n",
       "    </tr>\n",
       "    <tr>\n",
       "      <th>...</th>\n",
       "      <td>...</td>\n",
       "      <td>...</td>\n",
       "      <td>...</td>\n",
       "      <td>...</td>\n",
       "    </tr>\n",
       "    <tr>\n",
       "      <th>580</th>\n",
       "      <td>Russia</td>\n",
       "      <td>2–2 (a.e.t.)</td>\n",
       "      <td>Croatia</td>\n",
       "      <td>2018</td>\n",
       "    </tr>\n",
       "    <tr>\n",
       "      <th>581</th>\n",
       "      <td>France</td>\n",
       "      <td>1–0</td>\n",
       "      <td>Belgium</td>\n",
       "      <td>2018</td>\n",
       "    </tr>\n",
       "    <tr>\n",
       "      <th>582</th>\n",
       "      <td>Croatia</td>\n",
       "      <td>2–1 (a.e.t.)</td>\n",
       "      <td>England</td>\n",
       "      <td>2018</td>\n",
       "    </tr>\n",
       "    <tr>\n",
       "      <th>583</th>\n",
       "      <td>Belgium</td>\n",
       "      <td>2–0</td>\n",
       "      <td>England</td>\n",
       "      <td>2018</td>\n",
       "    </tr>\n",
       "    <tr>\n",
       "      <th>584</th>\n",
       "      <td>France</td>\n",
       "      <td>4–2</td>\n",
       "      <td>Croatia</td>\n",
       "      <td>2018</td>\n",
       "    </tr>\n",
       "  </tbody>\n",
       "</table>\n",
       "<p>585 rows × 4 columns</p>\n",
       "</div>"
      ],
      "text/plain": [
       "           home         score      away  year\n",
       "0       France            4–1    Mexico  1930\n",
       "1    Argentina            1–0    France  1930\n",
       "2        Chile            3–0    Mexico  1930\n",
       "3        Chile            1–0    France  1930\n",
       "4    Argentina            6–3    Mexico  1930\n",
       "..          ...           ...       ...   ...\n",
       "580     Russia   2–2 (a.e.t.)   Croatia  2018\n",
       "581     France            1–0   Belgium  2018\n",
       "582    Croatia   2–1 (a.e.t.)   England  2018\n",
       "583    Belgium            2–0   England  2018\n",
       "584     France            4–2   Croatia  2018\n",
       "\n",
       "[585 rows x 4 columns]"
      ]
     },
     "execution_count": 9,
     "metadata": {},
     "output_type": "execute_result"
    }
   ],
   "source": [
    "fifa_worldcup_results"
   ]
  },
  {
   "cell_type": "code",
   "execution_count": 17,
   "id": "049017b9",
   "metadata": {},
   "outputs": [
    {
     "data": {
      "text/html": [
       "<div>\n",
       "<style scoped>\n",
       "    .dataframe tbody tr th:only-of-type {\n",
       "        vertical-align: middle;\n",
       "    }\n",
       "\n",
       "    .dataframe tbody tr th {\n",
       "        vertical-align: top;\n",
       "    }\n",
       "\n",
       "    .dataframe thead th {\n",
       "        text-align: right;\n",
       "    }\n",
       "</style>\n",
       "<table border=\"1\" class=\"dataframe\">\n",
       "  <thead>\n",
       "    <tr style=\"text-align: right;\">\n",
       "      <th></th>\n",
       "      <th>home</th>\n",
       "      <th>score</th>\n",
       "      <th>away</th>\n",
       "      <th>year</th>\n",
       "    </tr>\n",
       "  </thead>\n",
       "  <tbody>\n",
       "    <tr>\n",
       "      <th>0</th>\n",
       "      <td>Russia</td>\n",
       "      <td>5–0</td>\n",
       "      <td>Saudi Arabia</td>\n",
       "      <td>2018</td>\n",
       "    </tr>\n",
       "    <tr>\n",
       "      <th>1</th>\n",
       "      <td>Egypt</td>\n",
       "      <td>0–1</td>\n",
       "      <td>Uruguay</td>\n",
       "      <td>2018</td>\n",
       "    </tr>\n",
       "    <tr>\n",
       "      <th>2</th>\n",
       "      <td>Russia</td>\n",
       "      <td>3–1</td>\n",
       "      <td>Egypt</td>\n",
       "      <td>2018</td>\n",
       "    </tr>\n",
       "    <tr>\n",
       "      <th>3</th>\n",
       "      <td>Uruguay</td>\n",
       "      <td>1–0</td>\n",
       "      <td>Saudi Arabia</td>\n",
       "      <td>2018</td>\n",
       "    </tr>\n",
       "    <tr>\n",
       "      <th>4</th>\n",
       "      <td>Uruguay</td>\n",
       "      <td>3–0</td>\n",
       "      <td>Russia</td>\n",
       "      <td>2018</td>\n",
       "    </tr>\n",
       "    <tr>\n",
       "      <th>...</th>\n",
       "      <td>...</td>\n",
       "      <td>...</td>\n",
       "      <td>...</td>\n",
       "      <td>...</td>\n",
       "    </tr>\n",
       "    <tr>\n",
       "      <th>59</th>\n",
       "      <td>Russia</td>\n",
       "      <td>2–2 (a.e.t.)</td>\n",
       "      <td>Croatia</td>\n",
       "      <td>2018</td>\n",
       "    </tr>\n",
       "    <tr>\n",
       "      <th>60</th>\n",
       "      <td>France</td>\n",
       "      <td>1–0</td>\n",
       "      <td>Belgium</td>\n",
       "      <td>2018</td>\n",
       "    </tr>\n",
       "    <tr>\n",
       "      <th>61</th>\n",
       "      <td>Croatia</td>\n",
       "      <td>2–1 (a.e.t.)</td>\n",
       "      <td>England</td>\n",
       "      <td>2018</td>\n",
       "    </tr>\n",
       "    <tr>\n",
       "      <th>62</th>\n",
       "      <td>Belgium</td>\n",
       "      <td>2–0</td>\n",
       "      <td>England</td>\n",
       "      <td>2018</td>\n",
       "    </tr>\n",
       "    <tr>\n",
       "      <th>63</th>\n",
       "      <td>France</td>\n",
       "      <td>4–2</td>\n",
       "      <td>Croatia</td>\n",
       "      <td>2018</td>\n",
       "    </tr>\n",
       "  </tbody>\n",
       "</table>\n",
       "<p>64 rows × 4 columns</p>\n",
       "</div>"
      ],
      "text/plain": [
       "        home         score           away  year\n",
       "0    Russia            5–0   Saudi Arabia  2018\n",
       "1     Egypt            0–1        Uruguay  2018\n",
       "2    Russia            3–1          Egypt  2018\n",
       "3   Uruguay            1–0   Saudi Arabia  2018\n",
       "4   Uruguay            3–0         Russia  2018\n",
       "..       ...           ...            ...   ...\n",
       "59   Russia   2–2 (a.e.t.)        Croatia  2018\n",
       "60   France            1–0        Belgium  2018\n",
       "61  Croatia   2–1 (a.e.t.)        England  2018\n",
       "62  Belgium            2–0        England  2018\n",
       "63   France            4–2        Croatia  2018\n",
       "\n",
       "[64 rows x 4 columns]"
      ]
     },
     "execution_count": 17,
     "metadata": {},
     "output_type": "execute_result"
    }
   ],
   "source": [
    "get_all_matches(2018)"
   ]
  },
  {
   "cell_type": "markdown",
   "id": "44e2a4c2",
   "metadata": {},
   "source": [
    "# short check if this will get all the data"
   ]
  },
  {
   "cell_type": "code",
   "execution_count": null,
   "id": "87332c9a",
   "metadata": {},
   "outputs": [],
   "source": [
    "website = f'https://en.wikipedia.org/wiki/{year}_FIFA_World_Cup'\n",
    "\n",
    "response_website = requests.get(website)\n",
    "content_website = response_website.text\n",
    "\n",
    "# WIll help to extract the data from the Wikipedia Website\n",
    "# If you do not have the lxml parser installed you should do so by typing \"pip install lxml\"\n",
    "soup = BeautifulSoup(content_website, 'lxml')"
   ]
  },
  {
   "cell_type": "code",
   "execution_count": 26,
   "id": "1f837cce",
   "metadata": {},
   "outputs": [],
   "source": [
    "#get website with BeautifulSoup\n",
    "website = f'https://en.wikipedia.org/wiki/2018_FIFA_World_Cup'\n",
    "response_website = requests.get(website)\n",
    "content_website = response_website.text\n",
    "soup = BeautifulSoup(content_website, 'lxml')"
   ]
  },
  {
   "cell_type": "code",
   "execution_count": 38,
   "id": "1914bc7e",
   "metadata": {},
   "outputs": [
    {
     "data": {
      "text/plain": [
       "64"
      ]
     },
     "execution_count": 38,
     "metadata": {},
     "output_type": "execute_result"
    }
   ],
   "source": [
    "#get all the tables with the class wikitable\n",
    "all_tables = soup.find_all('table', class_='fevent')\n",
    "len(all_tables)"
   ]
  }
 ],
 "metadata": {
  "kernelspec": {
   "display_name": "Python 3.9.13 64-bit ('3.9.13')",
   "language": "python",
   "name": "python3"
  },
  "language_info": {
   "codemirror_mode": {
    "name": "ipython",
    "version": 3
   },
   "file_extension": ".py",
   "mimetype": "text/x-python",
   "name": "python",
   "nbconvert_exporter": "python",
   "pygments_lexer": "ipython3",
   "version": "3.9.13"
  },
  "vscode": {
   "interpreter": {
    "hash": "c59a8a979966668d4f961b2e67c4ab7448103be2ccdf49b212cac28dd0a5ba6c"
   }
  }
 },
 "nbformat": 4,
 "nbformat_minor": 5
}
