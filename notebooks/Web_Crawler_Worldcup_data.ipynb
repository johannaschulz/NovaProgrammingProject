{
 "cells": [
  {
   "cell_type": "code",
   "execution_count": 29,
   "id": "77da5705",
   "metadata": {},
   "outputs": [],
   "source": [
    "#Import different libraries we need to scrap the data for the world cup"
   ]
  },
  {
   "cell_type": "code",
   "execution_count": 30,
   "id": "7a41ac5a",
   "metadata": {
    "scrolled": true
   },
   "outputs": [
    {
     "name": "stdout",
     "output_type": "stream",
     "text": [
      "Requirement already satisfied: bs4 in /Users/danielweiss/opt/anaconda3/lib/python3.9/site-packages (0.0.1)\n",
      "Requirement already satisfied: beautifulsoup4 in /Users/danielweiss/opt/anaconda3/lib/python3.9/site-packages (from bs4) (4.11.1)\n",
      "Requirement already satisfied: soupsieve>1.2 in /Users/danielweiss/opt/anaconda3/lib/python3.9/site-packages (from beautifulsoup4->bs4) (2.3.1)\n",
      "Note: you may need to restart the kernel to use updated packages.\n"
     ]
    }
   ],
   "source": [
    "pip install bs4"
   ]
  },
  {
   "cell_type": "code",
   "execution_count": 31,
   "id": "4ed7dca7",
   "metadata": {},
   "outputs": [],
   "source": [
    "from bs4 import BeautifulSoup"
   ]
  },
  {
   "cell_type": "code",
   "execution_count": 32,
   "id": "223b1a50",
   "metadata": {},
   "outputs": [],
   "source": [
    "import requests"
   ]
  },
  {
   "cell_type": "code",
   "execution_count": 51,
   "id": "ef1249f7",
   "metadata": {},
   "outputs": [],
   "source": [
    "import pandas as pd"
   ]
  },
  {
   "cell_type": "code",
   "execution_count": 52,
   "id": "c1d1bef8",
   "metadata": {},
   "outputs": [],
   "source": [
    "#All the years of the FIFA World Cup so far"
   ]
  },
  {
   "cell_type": "code",
   "execution_count": 110,
   "id": "85359dcc",
   "metadata": {},
   "outputs": [],
   "source": [
    "wc_years = [1930, 1934, 1938, 1950, 1954, 1958, 1962, 1966, 1970, 1974,\n",
    "            1978, 1982, 1986, 1990, 1994, 2002, 2006, 2010, 2014, 2018, 2022]"
   ]
  },
  {
   "cell_type": "code",
   "execution_count": 82,
   "id": "2233ca89",
   "metadata": {},
   "outputs": [],
   "source": [
    "def get_all_matches(year):\n",
    "    \n",
    "    \n",
    "    # From this website, we will import the data. Depending on the year that will be inputed in the function,\n",
    "    # the link will change and different data will be extracted. We use an f-string to do so.\n",
    "    website = f'https://en.wikipedia.org/wiki/{year}_FIFA_World_Cup'\n",
    "    \n",
    "    # This saves all the html code from the website to the response variable. \n",
    "    # In the html code, the information will be included we are looking for\n",
    "    response_website = requests.get(website)\n",
    "    content_website = response_website.text\n",
    "    \n",
    "    # WIll help to extract the data from the Wikipedia Website\n",
    "    # If you do not have the lxml parser installed you should do so by typing \"pip install lxml\"\n",
    "    soup = BeautifulSoup(content_website, 'lxml')\n",
    "    \n",
    "    # Here, we want to specify our extraction by only extracting the matches played.\n",
    "    # In order to do so, we need to try to find a pattern in the source code by which \n",
    "    # we can target the information fo the matches directly.\n",
    "    # The Google developer tool in chrome helps us to do so.\n",
    "    all_matches = soup.find_all('div', class_= 'footballbox')\n",
    "    \n",
    "    # Now, we loop over all the matches and find the home team, the away team and the score.\n",
    "    # We can identify them by the tag 'th' and the classes fhome, faway, and fscore.\n",
    "    \n",
    "    home = []\n",
    "    score = []\n",
    "    away = []\n",
    "    \n",
    "    for match in all_matches:\n",
    "        home.append(match.find('th', class_='fhome').get_text())\n",
    "        score.append(match.find('th', class_='fscore').get_text())\n",
    "        away.append(match.find('th', class_='faway').get_text())\n",
    "    \n",
    "    # We will crate a dictionary to merge our lists in one place\n",
    "    dict_matches = {'home': home, 'score': score, 'away':away, 'year': year}\n",
    "    df_matches = pd.DataFrame(dict_matches)\n",
    "    return df_matches"
   ]
  },
  {
   "cell_type": "code",
   "execution_count": 113,
   "id": "92d540c6",
   "metadata": {},
   "outputs": [
    {
     "name": "stdout",
     "output_type": "stream",
     "text": [
      "                 home     score              away  year\n",
      "0             France        4–1            Mexico  1930\n",
      "1          Argentina        1–0            France  1930\n",
      "2              Chile        3–0            Mexico  1930\n",
      "3              Chile        1–0            France  1930\n",
      "4          Argentina        6–3            Mexico  1930\n",
      "..                ...       ...               ...   ...\n",
      "596  Winners Match 51  Match 59  Winners Match 52  2022\n",
      "597  Winners Match 57  Match 61  Winners Match 58  2022\n",
      "598  Winners Match 59  Match 62  Winners Match 60  2022\n",
      "599   Losers Match 61  Match 63   Losers Match 62  2022\n",
      "600  Winners Match 61  Match 64  Winners Match 62  2022\n",
      "\n",
      "[601 rows x 4 columns]\n"
     ]
    }
   ],
   "source": [
    "# Here, we are running our defined function for all years and save the results to a variable called\n",
    "# all years matches. Then we concatenate al the results in a accumulated variable\n",
    "\n",
    "all_years_matches = [get_all_matches(year) for year in wc_years]\n",
    "fifa_worldcup_results = pd.concat(all_years_matches, ignore_index=True)\n",
    "print(fifa_worldcup_results)"
   ]
  },
  {
   "cell_type": "code",
   "execution_count": null,
   "id": "425a13c2",
   "metadata": {},
   "outputs": [],
   "source": []
  }
 ],
 "metadata": {
  "kernelspec": {
   "display_name": "Python 3.9.13 64-bit ('3.9.13')",
   "language": "python",
   "name": "python3"
  },
  "language_info": {
   "codemirror_mode": {
    "name": "ipython",
    "version": 3
   },
   "file_extension": ".py",
   "mimetype": "text/x-python",
   "name": "python",
   "nbconvert_exporter": "python",
   "pygments_lexer": "ipython3",
   "version": "3.9.13"
  },
  "vscode": {
   "interpreter": {
    "hash": "8dc7a71f5efdcfa590883132f85225d4fbf945fccec4f56d34aea82d961b453b"
   }
  }
 },
 "nbformat": 4,
 "nbformat_minor": 5
}
