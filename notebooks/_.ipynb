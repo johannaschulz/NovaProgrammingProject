{
 "cells": [
  {
   "cell_type": "code",
   "execution_count": null,
   "metadata": {},
   "outputs": [],
   "source": []
  }
 ],
 "metadata": {
  "kernelspec": {
   "display_name": "Python 3.9.13 64-bit ('3.9.13')",
   "language": "python",
   "name": "python3"
  },
  "language_info": {
   "name": "python",
   "version": "3.9.13"
  },
  "orig_nbformat": 4,
  "vscode": {
   "interpreter": {
    "hash": "8dc7a71f5efdcfa590883132f85225d4fbf945fccec4f56d34aea82d961b453b"
   }
  }
 },
 "nbformat": 4,
 "nbformat_minor": 2
}
